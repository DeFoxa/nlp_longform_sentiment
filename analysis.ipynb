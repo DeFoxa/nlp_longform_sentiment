{
 "cells": [
  {
   "cell_type": "markdown",
   "metadata": {},
   "source": [
    "### Long-Form Sentiment Analysis with Text Chunking"
   ]
  },
  {
   "cell_type": "code",
   "execution_count": null,
   "metadata": {},
   "outputs": [],
   "source": [
    "from transformers import  BertForSequenceClassification, BertTokenizer, RobertaTokenizer, RobertaForSequenceClassification\n",
    "from torch.nn.functional import softmax\n",
    "import pandas as pd\n",
    "import torch\n",
    "import numpy as np"
   ]
  },
  {
   "cell_type": "code",
   "execution_count": null,
   "metadata": {},
   "outputs": [],
   "source": [
    "\n",
    "path = \"<path to pre-processed csv file>\"\n",
    "try:\n",
    "    data = pd.read_csv(path, encoding='ISO-8859-1')\n",
    "    df = pd.DataFrame(data)\n",
    "except UnicodeDecodeError as e:\n",
    "    print(\"failed to read iso-8559-1\", e)\n",
    "try:\n",
    "    data = pd.read_csv(path, encoding='windows-1252')\n",
    "    df = pd.DataFrame(data)\n",
    "except UnicodeDecodeError as e:\n",
    "    print(\"failed to decode windows-1252:\", e)\n",
    "df\n"
   ]
  },
  {
   "cell_type": "markdown",
   "metadata": {},
   "source": [
    "### Format pre-processed data for tokenization"
   ]
  },
  {
   "cell_type": "code",
   "execution_count": null,
   "metadata": {},
   "outputs": [],
   "source": [
    "import re\n",
    "\n",
    "def format_for_tokenization(text):\n",
    "    text = text.lower() #lowercase\n",
    "    text = re.sub(r'https?://\\S+|www\\.\\S+', '', text) \n",
    "    text = re.sub(r'<.*?>', '', text) \n",
    "    text = re.sub(r'\\[.*?\\]', '', text)\n",
    "    return text\n",
    "\n",
    "df['Content'] = df['Content'].apply(format_for_tokenization)\n",
    "df['Content'].iloc[1]"
   ]
  },
  {
   "cell_type": "markdown",
   "metadata": {},
   "source": [
    "### Chunking Methods"
   ]
  },
  {
   "cell_type": "code",
   "execution_count": null,
   "metadata": {},
   "outputs": [],
   "source": [
    "def chunk_and_tokenize(tokenizer, content, chunk_size=510):\n",
    "    tokens = tokenizer.encode_plus(content, add_special_tokens=False, return_tensors='pt')\n",
    "    input_ids_chunks = tokens['input_ids'][0].split(chunk_size)\n",
    "    attention_mask_chunks = tokens['attention_mask'][0].split(chunk_size)\n",
    "\n",
    "    return input_ids_chunks, attention_mask_chunks\n",
    "\n",
    "def prepare_chunks(tokenizer, input_ids_chunks, attention_mask_chunks):\n",
    "    chunk_size = 512\n",
    "    prepared_input_ids, prepared_attention_masks = [], []\n",
    "\n",
    "    for input_ids, attention_mask in zip(input_ids_chunks, attention_mask_chunks):\n",
    "        input_ids_padded = torch.cat([torch.tensor([tokenizer.cls_token_id]), input_ids, torch.tensor([tokenizer.sep_token_id])])\n",
    "        attention_mask_padded = torch.cat([torch.tensor([1]), attention_mask, torch.tensor([1])])\n",
    "\n",
    "        pad_length = chunk_size - len(input_ids_padded)\n",
    "        if pad_length > 0:\n",
    "            input_ids_padded = torch.cat([input_ids_padded, torch.tensor([tokenizer.pad_token_id] * pad_length)])\n",
    "            attention_mask_padded = torch.cat([attention_mask_padded, torch.tensor([0] * pad_length)])\n",
    "\n",
    "        prepared_input_ids.append(input_ids_padded)\n",
    "        prepared_attention_masks.append(attention_mask_padded)\n",
    "\n",
    "    return torch.stack(prepared_input_ids), torch.stack(prepared_attention_masks)"
   ]
  },
  {
   "cell_type": "code",
   "execution_count": null,
   "metadata": {},
   "outputs": [],
   "source": [
    "def analysis_results_to_df(df, column_name, results):\n",
    "    if len(results) != len(df):\n",
    "        raise ValueError(\"Length of results list must match df\")\n",
    "        \n",
    "    df[column_name] = results\n",
    "    return df"
   ]
  },
  {
   "cell_type": "markdown",
   "metadata": {},
   "source": [
    "### Analysis: distilroBERTa Model"
   ]
  },
  {
   "cell_type": "code",
   "execution_count": null,
   "metadata": {},
   "outputs": [],
   "source": [
    "# NOTE: Note: I have used torch.nn.softmax and mean to convert model output logits into probabilities. \n",
    "# Depending on specific requirements, additional torch or numPy methods can be used to further manipulate and analyze the tensor outputs\n",
    "# Above applies to all Analysis cells\n",
    "\n",
    "tokenizer = RobertaTokenizer.from_pretrained('mrm8488/distilroberta-finetuned-financial-news-sentiment-analysis')\n",
    "model = RobertaForSequenceClassification.from_pretrained('mrm8488/distilroberta-finetuned-financial-news-sentiment-analysis')\n",
    "model.eval()  \n",
    "\n",
    "def distil_roberta_analyzer(content):\n",
    "    input_ids_chunks, attention_mask_chunks = chunk_and_tokenize(tokenizer, content)\n",
    "    input_ids, attention_mask = prepare_chunks(tokenizer, input_ids_chunks, attention_mask_chunks)\n",
    "\n",
    "    with torch.no_grad():  \n",
    "        outputs = model(input_ids, attention_mask=attention_mask)\n",
    "    \n",
    "    logits = outputs.logits\n",
    "    probs = torch.nn.functional.softmax(logits, dim=-1)\n",
    "    mean_probs = probs.mean(dim=0)\n",
    "    \n",
    "    return mean_probs\n",
    "\n",
    "distil_roberta_results = []\n",
    "for content in df['Content'].fillna(''):  \n",
    "    mean_probs = distil_roberta_analyzer(content)\n",
    "    print(mean_probs)\n",
    "    distil_roberta_results.append(mean_probs)\n",
    "\n",
    "column_name = \"distilroBERTa_sentiment\"\n",
    "analysis_results_to_df(df, column_name, distil_roberta_results)\n"
   ]
  },
  {
   "cell_type": "markdown",
   "metadata": {},
   "source": [
    "### Analysis: HuggingFace ahmedrachid fine-tuned finbert model"
   ]
  },
  {
   "cell_type": "code",
   "execution_count": null,
   "metadata": {},
   "outputs": [],
   "source": [
    "tokenizer = BertTokenizer.from_pretrained(\"ahmedrachid/FinancialBERT-Sentiment-Analysis\", num_labels=3)\n",
    "model = BertForSequenceClassification.from_pretrained(\"ahmedrachid/FinancialBERT-Sentiment-Analysis\")\n",
    "model.eval()  \n",
    "\n",
    "\n",
    "\n",
    "def ft_finbert_analyzer(content):\n",
    "    input_ids_chunks, attention_mask_chunks = chunk_and_tokenize(tokenizer, content)\n",
    "    input_ids, attention_mask = prepare_chunks(tokenizer, input_ids_chunks, attention_mask_chunks)\n",
    "\n",
    "    with torch.no_grad():  \n",
    "        outputs = model(input_ids, attention_mask=attention_mask)\n",
    "    \n",
    "    logits = outputs.logits\n",
    "    probs = torch.nn.functional.softmax(logits, dim=-1)\n",
    "    mean_probs = probs.mean(dim=0)\n",
    "    \n",
    "    return mean_probs\n",
    "\n",
    "_ahmedrachid_results = []\n",
    "for content in df['Content'].fillna(''):  \n",
    "    mean_probs = ft_finbert_analyzer(content)\n",
    "    _ahmedrachid_results.append(mean_probs)\n",
    "\n",
    "column_name = \"ft_finbert_sentiment\"\n",
    "analysis_results_to_df(df, column_name, _ahmedrachid_results)"
   ]
  },
  {
   "cell_type": "markdown",
   "metadata": {},
   "source": [
    "## Analysis: HuggingFace RogerKam fine-tuned roberta model"
   ]
  },
  {
   "cell_type": "code",
   "execution_count": null,
   "metadata": {},
   "outputs": [],
   "source": [
    "tokenizer = RobertaTokenizer.from_pretrained(\"RogerKam/roberta_fine_tuned_sentiment_financial_news\")\n",
    "model = RobertaForSequenceClassification.from_pretrained(\"RogerKam/roberta_fine_tuned_sentiment_financial_news\")\n",
    "model.eval()  \n",
    "\n",
    "\n",
    "def rk_analyzer(content):\n",
    "    input_ids_chunks, attention_mask_chunks = chunk_and_tokenize(tokenizer, content)\n",
    "    input_ids, attention_mask = prepare_chunks(tokenizer, input_ids_chunks, attention_mask_chunks)\n",
    "\n",
    "    with torch.no_grad():  \n",
    "        outputs = model(input_ids, attention_mask=attention_mask)\n",
    "    \n",
    "    logits = outputs.logits\n",
    "    probs = torch.nn.functional.softmax(logits, dim=-1)\n",
    "    mean_probs = probs.mean(dim=0)\n",
    "    \n",
    "    return mean_probs\n",
    "\n",
    "roger_kam_roberta = []\n",
    "for content in df['Content'].fillna(''):  \n",
    "    mean_probs = rk_analyzer(content)\n",
    "    roger_kam_roberta.append(mean_probs)\n",
    "\n",
    "column_name = \"rk_roBERTa_sentiment\"\n",
    "analysis_results_to_df(df, column_name, roger_kam_roberta)"
   ]
  },
  {
   "cell_type": "markdown",
   "metadata": {},
   "source": [
    "## Analysis: Original finBERT model"
   ]
  },
  {
   "cell_type": "code",
   "execution_count": null,
   "metadata": {},
   "outputs": [],
   "source": [
    "tokenizer = BertTokenizer.from_pretrained('ProsusAI/finbert')\n",
    "model = BertForSequenceClassification.from_pretrained('ProsusAI/finbert')\n",
    "model.eval()  \n",
    "\n",
    "def finbert_analyzer(content):\n",
    "    input_ids_chunks, attention_mask_chunks = chunk_and_tokenize(tokenizer, content)\n",
    "    input_ids, attention_mask = prepare_chunks(tokenizer, input_ids_chunks, attention_mask_chunks)\n",
    "\n",
    "    with torch.no_grad():  \n",
    "        outputs = model(input_ids, attention_mask=attention_mask)\n",
    "    \n",
    "    logits = outputs.logits\n",
    "    probs = torch.nn.functional.softmax(logits, dim=-1)\n",
    "    mean_probs = probs.mean(dim=0)\n",
    "    \n",
    "    return mean_probs\n",
    "\n",
    "fin_results = []\n",
    "for content in df['Content'].fillna(''):  \n",
    "    mean_probs = finbert_analyzer(content)\n",
    "    fin_results.append(mean_probs)\n",
    "\n",
    "column_name = \"original_finBERT_sentiment\"\n",
    "analysis_results_to_df(df, column_name, fin_results)"
   ]
  }
 ],
 "metadata": {
  "kernelspec": {
   "display_name": "base_clone",
   "language": "python",
   "name": "python3"
  },
  "language_info": {
   "codemirror_mode": {
    "name": "ipython",
    "version": 3
   },
   "file_extension": ".py",
   "mimetype": "text/x-python",
   "name": "python",
   "nbconvert_exporter": "python",
   "pygments_lexer": "ipython3",
   "version": "3.10.11"
  }
 },
 "nbformat": 4,
 "nbformat_minor": 2
}
